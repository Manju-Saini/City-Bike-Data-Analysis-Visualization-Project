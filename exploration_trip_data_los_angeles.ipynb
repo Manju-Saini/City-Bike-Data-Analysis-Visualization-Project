{
 "cells": [
  {
   "cell_type": "markdown",
   "metadata": {},
   "source": [
    "# (Dataset Exploration Title)\n",
    "## by (your name here)\n",
    "\n",
    "## Preliminary Wrangling\n",
    "\n",
    "> Briefly introduce your dataset here."
   ]
  },
  {
   "cell_type": "code",
   "execution_count": 1,
   "metadata": {},
   "outputs": [],
   "source": [
    "# import all packages and set plots to be embedded inline\n",
    "import numpy as np\n",
    "import pandas as pd\n",
    "import matplotlib.pyplot as plt\n",
    "import seaborn as sb\n",
    "\n",
    "%matplotlib inline"
   ]
  },
  {
   "cell_type": "code",
   "execution_count": null,
   "metadata": {},
   "outputs": [],
   "source": []
  },
  {
   "cell_type": "markdown",
   "metadata": {},
   "source": [
    "> Load in your dataset and describe its properties through the questions below.\n",
    "Try and motivate your exploration goals through this section."
   ]
  },
  {
   "cell_type": "code",
   "execution_count": 2,
   "metadata": {},
   "outputs": [],
   "source": [
    "# One time step\n",
    "# from zipfile import ZipFile \n",
    "  \n",
    "# # specifying the zip file name \n",
    "# for year in np.arange(2014, 2017):\n",
    "#     for month in np.arange(1, 13):\n",
    "#         m_str = str(month)\n",
    "#         if len(m_str)<2:\n",
    "#             m_str = \"0\"+m_str\n",
    "#         file_name = str(year)+m_str+\"-citibike-tripdata.zip\"\n",
    "#         with ZipFile(file_name, 'r') as zip:\n",
    "#             zip.extractall()\n",
    "#             print('Done!')\n",
    "\n",
    "# # trip = pd.read_csv(\"2017-fordgobike-tripdata.csv\")\n"
   ]
  },
  {
   "cell_type": "code",
   "execution_count": 3,
   "metadata": {},
   "outputs": [
    {
     "name": "stdout",
     "output_type": "stream",
     "text": [
      "Before 201402-citibike-tripdata.csv trip.shape:  300400 new_df.shape:  224736\n",
      "After 201402-citibike-tripdata.csv trip.shape:  525136\n",
      "Before 201403-citibike-tripdata.csv trip.shape:  525136 new_df.shape:  439117\n",
      "After 201403-citibike-tripdata.csv trip.shape:  964253\n",
      "Before 201404-citibike-tripdata.csv trip.shape:  964253 new_df.shape:  670780\n",
      "After 201404-citibike-tripdata.csv trip.shape:  1635033\n",
      "Before 201405-citibike-tripdata.csv trip.shape:  1635033 new_df.shape:  866117\n",
      "After 201405-citibike-tripdata.csv trip.shape:  2501150\n",
      "Before 201406-citibike-tripdata.csv trip.shape:  2501150 new_df.shape:  936880\n",
      "After 201406-citibike-tripdata.csv trip.shape:  3438030\n",
      "Before 201407-citibike-tripdata.csv trip.shape:  3438030 new_df.shape:  968842\n",
      "After 201407-citibike-tripdata.csv trip.shape:  4406872\n",
      "Before 201408-citibike-tripdata.csv trip.shape:  4406872 new_df.shape:  963489\n",
      "After 201408-citibike-tripdata.csv trip.shape:  5370361\n",
      "Before 201409-citibike-tripdata.csv trip.shape:  5370361 new_df.shape:  953887\n",
      "After 201409-citibike-tripdata.csv trip.shape:  6324248\n",
      "Before 201410-citibike-tripdata.csv trip.shape:  6324248 new_df.shape:  828711\n",
      "After 201410-citibike-tripdata.csv trip.shape:  7152959\n",
      "Before 201411-citibike-tripdata.csv trip.shape:  7152959 new_df.shape:  529188\n",
      "After 201411-citibike-tripdata.csv trip.shape:  7682147\n",
      "Before 201412-citibike-tripdata.csv trip.shape:  7682147 new_df.shape:  399069\n",
      "After 201412-citibike-tripdata.csv trip.shape:  8081216\n"
     ]
    }
   ],
   "source": [
    "trip = pd.DataFrame()\n",
    "\n",
    "for year in np.arange(2014, 2015):\n",
    "    for month in np.arange(1, 13):\n",
    "        m_str = str(month)\n",
    "        if len(m_str)<2:\n",
    "            m_str = \"0\"+m_str\n",
    "        file_name = str(year)+m_str+\"-citibike-tripdata.csv\"\n",
    "#         print(file_name)\n",
    "        if trip.empty:\n",
    "            trip = pd.read_csv(file_name)\n",
    "        else:\n",
    "            new_df = pd.read_csv(file_name)\n",
    "#             trip = trip.append(new_df, ignore_index=True)\n",
    "            print(\"Before \"+file_name+\" trip.shape: \",trip.shape[0], \"new_df.shape: \",new_df.shape[0])\n",
    "            trip = pd.concat([trip, new_df], ignore_index=True)\n",
    "            print(\"After \"+file_name+\" trip.shape: \",trip.shape[0])\n",
    "#         df.head()\n",
    "    "
   ]
  },
  {
   "cell_type": "code",
   "execution_count": 4,
   "metadata": {},
   "outputs": [],
   "source": [
    "# df_a = pd.read_csv(\"201401-citibike-tripdata.csv\")\n",
    "# df_b = pd.read_csv(\"201402-citibike-tripdata.csv\")"
   ]
  },
  {
   "cell_type": "code",
   "execution_count": 5,
   "metadata": {},
   "outputs": [],
   "source": [
    "# df_a.shape[0]+df_b.shape[0]"
   ]
  },
  {
   "cell_type": "code",
   "execution_count": 6,
   "metadata": {},
   "outputs": [],
   "source": [
    "# df_a.append(df_b, ignore_index=True)"
   ]
  },
  {
   "cell_type": "code",
   "execution_count": 7,
   "metadata": {},
   "outputs": [
    {
     "data": {
      "text/plain": [
       "Index(['tripduration', 'starttime', 'stoptime', 'start station id',\n",
       "       'start station name', 'start station latitude',\n",
       "       'start station longitude', 'end station id', 'end station name',\n",
       "       'end station latitude', 'end station longitude', 'bikeid', 'usertype',\n",
       "       'birth year', 'gender'],\n",
       "      dtype='object')"
      ]
     },
     "execution_count": 7,
     "metadata": {},
     "output_type": "execute_result"
    }
   ],
   "source": [
    "trip.columns"
   ]
  },
  {
   "cell_type": "code",
   "execution_count": 8,
   "metadata": {},
   "outputs": [],
   "source": [
    "# date type columns to correct format\n",
    "for d_col in ['starttime', 'stoptime']:\n",
    "    trip[d_col] = pd.to_datetime(trip[d_col])"
   ]
  },
  {
   "cell_type": "code",
   "execution_count": 9,
   "metadata": {},
   "outputs": [],
   "source": [
    "# int colums to str type\n",
    "for int_col in ['start station id', 'end station id', 'bikeid']:\n",
    "    trip[int_col] = pd.Categorical(trip[int_col], categories = trip[int_col].unique(), ordered=False)"
   ]
  },
  {
   "cell_type": "raw",
   "metadata": {},
   "source": [
    "trip.head()"
   ]
  },
  {
   "cell_type": "markdown",
   "metadata": {},
   "source": [
    "### What is the structure of your dataset?\n",
    "\n",
    "> Your answer here!\n",
    "\n",
    "### What is/are the main feature(s) of interest in your dataset?\n",
    "\n",
    "> Your answer here!\n",
    "\n",
    "### What features in the dataset do you think will help support your investigation into your feature(s) of interest?\n",
    "\n",
    "> Your answer here!"
   ]
  },
  {
   "cell_type": "markdown",
   "metadata": {},
   "source": [
    "## Univariate Exploration\n",
    "\n",
    "> In this section, investigate distributions of individual variables. If\n",
    "you see unusual points or outliers, take a deeper look to clean things up\n",
    "and prepare yourself to look at relationships between variables."
   ]
  },
  {
   "cell_type": "code",
   "execution_count": 10,
   "metadata": {},
   "outputs": [
    {
     "data": {
      "text/plain": [
       "Index(['tripduration', 'starttime', 'stoptime', 'start station id',\n",
       "       'start station name', 'start station latitude',\n",
       "       'start station longitude', 'end station id', 'end station name',\n",
       "       'end station latitude', 'end station longitude', 'bikeid', 'usertype',\n",
       "       'birth year', 'gender'],\n",
       "      dtype='object')"
      ]
     },
     "execution_count": 10,
     "metadata": {},
     "output_type": "execute_result"
    }
   ],
   "source": [
    "trip.columns"
   ]
  },
  {
   "cell_type": "code",
   "execution_count": 11,
   "metadata": {},
   "outputs": [],
   "source": [
    "trip = trip[['tripduration', 'starttime', 'stoptime', 'start station id'\n",
    "       ,'end station id', 'bikeid', 'usertype','birth year', 'gender']]"
   ]
  },
  {
   "cell_type": "code",
   "execution_count": 21,
   "metadata": {},
   "outputs": [],
   "source": [
    "# time_of_day_values = [\"Early morning(0<=6)\",\"Morning(6<=12)\",\"Afternoon(12<=18)\",\"Night(18<=24)\"]\n",
    "\n",
    "# def get_time_of_day(x):\n",
    "#     duration = \"\"\n",
    "#     if x.hour < 6:\n",
    "#         duration = time_of_day_values[0]\n",
    "#     elif x.hour < 12:\n",
    "#         duration = time_of_day_values[1]\n",
    "#     elif x.hour < 18:\n",
    "#         duration = time_of_day_values[2]\n",
    "#     elif x.hour < 24:\n",
    "#         duration = time_of_day_values[3]\n",
    "#     return duration\n",
    "\n",
    "def get_time_of_day(x):\n",
    "    return x.hour\n",
    "\n",
    "import datetime\n",
    "\n",
    "# x.isoweekday()\n",
    "trip['time_of_day'] = trip['starttime'].apply(get_time_of_day)\n",
    "trip['day_of_week'] = trip['starttime'].dt.day_name()\n",
    "\n",
    "trip['month_of_year'] = trip['starttime'].dt.month_name()\n",
    "# .apply(lambda x: x.month)\n"
   ]
  },
  {
   "cell_type": "code",
   "execution_count": 13,
   "metadata": {},
   "outputs": [],
   "source": [
    "# trip['time_of_day'] = pd.Categorical(trip['time_of_day'], categories=time_of_day_values, ordered=True)"
   ]
  },
  {
   "cell_type": "code",
   "execution_count": 22,
   "metadata": {},
   "outputs": [],
   "source": [
    "trip['day_of_week'] = pd.Categorical(trip['day_of_week'], categories=['Monday','Tuesday','Wednesday','Thursday','Friday','Saturday','Sunday'], ordered=True)"
   ]
  },
  {
   "cell_type": "code",
   "execution_count": 23,
   "metadata": {},
   "outputs": [],
   "source": [
    "trip['month_of_year'] = pd.Categorical(trip['month_of_year'], categories=['January','February','March','April','May','June', 'July','August','September','October', 'November','December'], ordered=True)"
   ]
  },
  {
   "cell_type": "code",
   "execution_count": 16,
   "metadata": {},
   "outputs": [],
   "source": [
    "# trip['Start Time'].unique()"
   ]
  },
  {
   "cell_type": "code",
   "execution_count": 24,
   "metadata": {},
   "outputs": [
    {
     "name": "stdout",
     "output_type": "stream",
     "text": [
      "<class 'pandas.core.frame.DataFrame'>\n",
      "RangeIndex: 8081216 entries, 0 to 8081215\n",
      "Data columns (total 12 columns):\n",
      "tripduration        int64\n",
      "starttime           datetime64[ns]\n",
      "stoptime            datetime64[ns]\n",
      "start station id    category\n",
      "end station id      category\n",
      "bikeid              category\n",
      "usertype            object\n",
      "birth year          object\n",
      "gender              int64\n",
      "time_of_day         int64\n",
      "day_of_week         category\n",
      "month_of_year       category\n",
      "dtypes: category(5), datetime64[ns](2), int64(3), object(2)\n",
      "memory usage: 493.6+ MB\n"
     ]
    }
   ],
   "source": [
    "trip.info()"
   ]
  },
  {
   "cell_type": "code",
   "execution_count": null,
   "metadata": {},
   "outputs": [],
   "source": [
    "trip.to_csv(\"trip_2014\")"
   ]
  },
  {
   "cell_type": "code",
   "execution_count": 25,
   "metadata": {},
   "outputs": [
    {
     "data": {
      "text/plain": [
       "(array([ 0,  1,  2,  3,  4,  5,  6,  7,  8,  9, 10, 11, 12, 13, 14, 15, 16,\n",
       "        17, 18, 19, 20, 21, 22, 23]), <a list of 24 Text xticklabel objects>)"
      ]
     },
     "execution_count": 25,
     "metadata": {},
     "output_type": "execute_result"
    },
    {
     "data": {
      "image/png": "[encoded data removed]",
      "text/plain": [
       "<Figure size 1800x360 with 3 Axes>"
      ]
     },
     "metadata": {
      "needs_background": "light"
     },
     "output_type": "display_data"
    }
   ],
   "source": [
    "\n",
    "\n",
    "# for col in ['duration_sec', 'start_station_id'\n",
    "#        ,'end_station_id', 'bike_id', 'user_type','member_birth_year', 'member_gender']:\n",
    "#     plt.hist(data=trip, x=col)\n",
    "#     plt.xlabel(col)\n",
    "#     plt.ylabel('counts')\n",
    "plt.figure(figsize=[25, 5])\n",
    "\n",
    "plt.subplot(1,3,1)\n",
    "col = 'day_of_week'\n",
    "sb.countplot(data=trip, x=col, color=sb.color_palette()[0]);\n",
    "plt.xlabel(col)\n",
    "plt.ylabel('counts')\n",
    "plt.xticks(rotation=45)\n",
    "\n",
    "plt.subplot(1,3,2)\n",
    "col = 'month_of_year'\n",
    "sb.countplot(data=trip, x=col, color=sb.color_palette()[0]);\n",
    "plt.xlabel(col)\n",
    "plt.ylabel('counts')\n",
    "plt.xticks(rotation=45)\n",
    "\n",
    "plt.subplot(1,3,3)\n",
    "col = 'time_of_day'\n",
    "sb.countplot(data=trip, x=col, color=sb.color_palette()[0]);\n",
    "# plt.yscale('log')\n",
    "# plt.xscale('log')\n",
    "plt.xlabel(col)\n",
    "plt.ylabel('counts')\n",
    "plt.xticks(rotation=45)"
   ]
  },
  {
   "cell_type": "code",
   "execution_count": 19,
   "metadata": {},
   "outputs": [],
   "source": [
    "# day_of_week - Unimodal. Most of te rides are taken on weekdays(Monday to Friday) and number of rides reduces to half on weekends.\n",
    "# month_of_year - Unimodal, Most of the rides were taken for months Aug-December\n",
    "# time_of_day - Bimodal , Most of the rides are taken between 8-10 hours and 17- 19 hours\n",
    "# plt.xscale('log')\n",
    "# trip['starttime'].dt.day_name().value_counts()"
   ]
  },
  {
   "cell_type": "code",
   "execution_count": 20,
   "metadata": {},
   "outputs": [],
   "source": [
    "# trip['starttime'].dt.month_name().value_counts()"
   ]
  },
  {
   "cell_type": "code",
   "execution_count": null,
   "metadata": {},
   "outputs": [],
   "source": []
  },
  {
   "cell_type": "code",
   "execution_count": null,
   "metadata": {},
   "outputs": [],
   "source": []
  },
  {
   "cell_type": "code",
   "execution_count": null,
   "metadata": {},
   "outputs": [],
   "source": []
  },
  {
   "cell_type": "code",
   "execution_count": null,
   "metadata": {},
   "outputs": [],
   "source": []
  },
  {
   "cell_type": "markdown",
   "metadata": {},
   "source": [
    "> Make sure that, after every plot or related series of plots, that you\n",
    "include a Markdown cell with comments about what you observed, and what\n",
    "you plan on investigating next."
   ]
  },
  {
   "cell_type": "code",
   "execution_count": null,
   "metadata": {},
   "outputs": [],
   "source": []
  },
  {
   "cell_type": "markdown",
   "metadata": {},
   "source": [
    "### Discuss the distribution(s) of your variable(s) of interest. Were there any unusual points? Did you need to perform any transformations?\n",
    "\n",
    "> Your answer here!\n",
    "\n",
    "### Of the features you investigated, were there any unusual distributions? Did you perform any operations on the data to tidy, adjust, or change the form of the data? If so, why did you do this?\n",
    "\n",
    "> Your answer here!"
   ]
  },
  {
   "cell_type": "markdown",
   "metadata": {},
   "source": [
    "## Bivariate Exploration\n",
    "\n",
    "> In this section, investigate relationships between pairs of variables in your\n",
    "data. Make sure the variables that you cover here have been introduced in some\n",
    "fashion in the previous section (univariate exploration)."
   ]
  },
  {
   "cell_type": "code",
   "execution_count": null,
   "metadata": {},
   "outputs": [],
   "source": []
  },
  {
   "cell_type": "markdown",
   "metadata": {},
   "source": [
    "### Talk about some of the relationships you observed in this part of the investigation. How did the feature(s) of interest vary with other features in the dataset?\n",
    "\n",
    "> Your answer here!\n",
    "\n",
    "### Did you observe any interesting relationships between the other features (not the main feature(s) of interest)?\n",
    "\n",
    "> Your answer here!"
   ]
  },
  {
   "cell_type": "markdown",
   "metadata": {},
   "source": [
    "## Multivariate Exploration\n",
    "\n",
    "> Create plots of three or more variables to investigate your data even\n",
    "further. Make sure that your investigations are justified, and follow from\n",
    "your work in the previous sections."
   ]
  },
  {
   "cell_type": "code",
   "execution_count": null,
   "metadata": {},
   "outputs": [],
   "source": []
  },
  {
   "cell_type": "markdown",
   "metadata": {},
   "source": [
    "### Talk about some of the relationships you observed in this part of the investigation. Were there features that strengthened each other in terms of looking at your feature(s) of interest?\n",
    "\n",
    "> Your answer here!\n",
    "\n",
    "### Were there any interesting or surprising interactions between features?\n",
    "\n",
    "> Your answer here!"
   ]
  },
  {
   "cell_type": "markdown",
   "metadata": {},
   "source": [
    "> At the end of your report, make sure that you export the notebook as an\n",
    "html file from the `File > Download as... > HTML` menu. Make sure you keep\n",
    "track of where the exported file goes, so you can put it in the same folder\n",
    "as this notebook for project submission. Also, make sure you remove all of\n",
    "the quote-formatted guide notes like this one before you finish your report!"
   ]
  },
  {
   "cell_type": "code",
   "execution_count": null,
   "metadata": {},
   "outputs": [],
   "source": []
  }
 ],
 "metadata": {
  "kernelspec": {
   "display_name": "Python 3",
   "language": "python",
   "name": "python3"
  },
  "language_info": {
   "codemirror_mode": {
    "name": "ipython",
    "version": 3
   },
   "file_extension": ".py",
   "mimetype": "text/x-python",
   "name": "python",
   "nbconvert_exporter": "python",
   "pygments_lexer": "ipython3",
   "version": "3.7.1"
  }
 },
 "nbformat": 4,
 "nbformat_minor": 2
}
